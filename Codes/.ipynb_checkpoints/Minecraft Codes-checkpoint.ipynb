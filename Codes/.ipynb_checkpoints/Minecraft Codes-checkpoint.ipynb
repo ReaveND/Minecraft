{
 "cells": [
  {
   "cell_type": "markdown",
   "id": "e17726e4",
   "metadata": {},
   "source": [
    "# REAVEND' BLAZING BLADE | RAGNVINDR"
   ]
  },
  {
   "cell_type": "raw",
   "id": "63cc736a",
   "metadata": {},
   "source": [
    "/give @p netherite_sword{display:{Name:'{\"text\":\"Ragnvindr\",\"color\":\"#FF0000\",\"bold\":true,\"italic\":true}',Lore:['{\"text\":\"ReaveND\\' Blazing Blade\",\"color\":\"#FF0000\",\"bold\":false,\"italic\":true}']},HideFlags:4,Unbreakable:1b,Enchantments:[{id:\"minecraft:fire_aspect\",lvl:255s},{id:\"minecraft:knockback\",lvl:255s},{id:\"minecraft:looting\",lvl:255s},{id:\"minecraft:sharpness\",lvl:255s},{id:\"minecraft:sweeping\",lvl:255s}],AttributeModifiers:[{AttributeName:\"generic.attack_damage\",Name:\"generic.attack_damage\",Amount:2,Operation:1,UUID:[I;1208759598,-422556524,-1339033362,1413722300],Slot:\"mainhand\"},{AttributeName:\"generic.attack_speed\",Name:\"generic.attack_speed\",Amount:-2,Operation:0,UUID:[I;1155515922,-1741534324,-1822658033,1629663431],Slot:\"mainhand\"},{AttributeName:\"generic.max_absorption\",Name:\"generic.max_absorption\",Amount:0.1,Operation:1,UUID:[I;2016557687,-1826404324,-2113809141,1559833146],Slot:\"mainhand\"}]} 1"
   ]
  },
  {
   "cell_type": "markdown",
   "id": "0becfc0c",
   "metadata": {},
   "source": [
    "# EI' DOLPHIN BOW | DOLPHYSUS"
   ]
  },
  {
   "cell_type": "raw",
   "id": "5f411ff8",
   "metadata": {},
   "source": [
    "/give @p bow{display:{Name:'{\"text\":\"Dolphysus\",\"color\":\"dark_purple\",\"bold\":true,\"italic\":true}',Lore:['{\"text\":\"Ei\\' Dolphin Bow\",\"color\":\"dark_purple\",\"italic\":true}']},HideFlags:4,Unbreakable:1b,Enchantments:[{id:\"minecraft:looting\",lvl:255s},{id:\"minecraft:infinity\",lvl:1s},{id:\"minecraft:power\",lvl:255s},{id:\"minecraft:punch\",lvl:255s}],AttributeModifiers:[{AttributeName:\"generic.max_health\",Name:\"generic.max_health\",Amount:5,Operation:1,UUID:[I;79413325,-691451349,-1535957682,-215703316],Slot:\"mainhand\"},{AttributeName:\"generic.attack_speed\",Name:\"generic.attack_speed\",Amount:0.5,Operation:1,UUID:[I;1146596928,-271171294,-1363437830,1409865195],Slot:\"mainhand\"},{AttributeName:\"generic.attack_damage\",Name:\"generic.attack_damage\",Amount:1.5,Operation:1,UUID:[I;939016007,1004683536,-1513367564,274651121],Slot:\"mainhand\"},{AttributeName:\"generic.knockback_resistance\",Name:\"generic.knockback_resistance\",Amount:5,Operation:1,UUID:[I;-1947548358,-1459599676,-1450073807,-59100942],Slot:\"mainhand\"}]} 1"
   ]
  },
  {
   "cell_type": "markdown",
   "id": "b0efb6c9",
   "metadata": {},
   "source": [
    "# REAVEND' BLAZING BLADE | RAGNELL"
   ]
  },
  {
   "cell_type": "raw",
   "id": "65b73ad7",
   "metadata": {},
   "source": [
    "/give @p netherite_sword{display:{Name:'{\"text\":\"Ragnell\",\"color\":\"#FF0000\",\"bold\":true,\"italic\":true,\"underlined\":false,\"strikethrough\":false,\"obfuscated\":false}',Lore:['{\"text\":\"ReaveND\\' Blazing Blade\",\"color\":\"#FF0000\",\"bold\":false,\"italic\":true}']},HideFlags:4,Unbreakable:1b,Enchantments:[{id:\"minecraft:fire_aspect\",lvl:255s},{id:\"minecraft:knockback\",lvl:255s},{id:\"minecraft:looting\",lvl:255s},{id:\"minecraft:sharpness\",lvl:255s},{id:\"minecraft:sweeping\",lvl:255s}],AttributeModifiers:[{AttributeName:\"generic.attack_damage\",Name:\"generic.attack_damage\",Amount:2,Operation:1,UUID:[I;-721462365,-356889076,-2055585921,-1747434354],Slot:\"mainhand\"},{AttributeName:\"generic.attack_speed\",Name:\"generic.attack_speed\",Amount:-2,Operation:0,UUID:[I;365160675,-1873984536,-1130736512,58924485],Slot:\"mainhand\"},{AttributeName:\"generic.max_absorption\",Name:\"generic.max_absorption\",Amount:0.1,Operation:1,UUID:[I;-1257322017,672944039,-1480729929,-1618948384],Slot:\"mainhand\"}]} 1"
   ]
  },
  {
   "cell_type": "markdown",
   "id": "84cca7b2",
   "metadata": {},
   "source": [
    "# REAVEND' JOURNAL TOME | RAGNAROK"
   ]
  },
  {
   "cell_type": "raw",
   "id": "ca127023",
   "metadata": {},
   "source": [
    "/give @p writable_book{display:{Name:'{\"text\":\"Ragnarok\",\"color\":\"#FF0000\",\"bold\":true,\"italic\":true}',Lore:['{\"text\":\"ReaveND\\' Tome\",\"color\":\"#FF0000\",\"italic\":true}']},pages:[\"\"]} 1"
   ]
  },
  {
   "cell_type": "markdown",
   "id": "67254075",
   "metadata": {},
   "source": [
    "# REAVEND' THUNDEROUS PICKAXE | ARMADS"
   ]
  },
  {
   "cell_type": "raw",
   "id": "6aeef12e",
   "metadata": {},
   "source": [
    "/give @p netherite_pickaxe{display:{Name:'{\"text\":\"Armads\",\"color\":\"#E5FF00\",\"bold\":true,\"italic\":true}',Lore:['{\"text\":\"ReaveND\\' Thunderous Pickaxe\",\"color\":\"#E5FF00\",\"italic\":true}']},HideFlags:4,Unbreakable:1b,Enchantments:[{id:\"minecraft:efficiency\",lvl:5s},{id:\"minecraft:fortune\",lvl:10s}]} 1"
   ]
  },
  {
   "cell_type": "markdown",
   "id": "db24f7aa",
   "metadata": {},
   "source": [
    "# REAVEND' VISION | TARTAGLIA"
   ]
  },
  {
   "cell_type": "raw",
   "id": "f5099692",
   "metadata": {},
   "source": [
    "/give @p carved_pumpkin{display:{Name:'{\"text\":\"Tartaglia\",\"color\":\"#FF0000\",\"bold\":true,\"italic\":true}',Lore:['{\"text\":\"ReaveND\\' Mysterious Mask\",\"color\":\"#FF0000\",\"bold\":false,\"italic\":true}']},HideFlags:4,Unbreakable:1b,AttributeModifiers:[{AttributeName:\"generic.luck\",Name:\"generic.luck\",Amount:20,Operation:0,UUID:[I;-1981192545,1975339437,-2136066770,-820358074],Slot:\"head\"},{AttributeName:\"generic.max_health\",Name:\"generic.max_health\",Amount:20,Operation:0,UUID:[I;1262977007,-1106557243,-1435551591,-986376214],Slot:\"head\"}]} 1"
   ]
  },
  {
   "cell_type": "markdown",
   "id": "1552d404",
   "metadata": {},
   "source": [
    "# REAVEND' FEASTING ELYTRA | FEASTING"
   ]
  },
  {
   "cell_type": "raw",
   "id": "674b544e",
   "metadata": {},
   "source": [
    "/give @p elytra{display:{Name:'{\"text\":\"Feasting\",\"color\":\"#FF0000\",\"bold\":true,\"italic\":true}',Lore:['{\"text\":\"ReaveND\\' Mysterious Elytra\",\"color\":\"#FF0000\",\"bold\":false,\"italic\":true}']},HideFlags:4,Unbreakable:1b,AttributeModifiers:[{AttributeName:\"generic.knockback_resistance\",Name:\"generic.knockback_resistance\",Amount:20,Operation:0,UUID:[I;1889552654,780815936,-1517563383,1343879669],Slot:\"head\"},{AttributeName:\"generic.max_absorption\",Name:\"generic.max_absorption\",Amount:20,Operation:0,UUID:[I;-1164448383,1336429063,-1400035785,-891163977],Slot:\"head\"}]} 1"
   ]
  },
  {
   "cell_type": "markdown",
   "id": "eea58580",
   "metadata": {},
   "source": [
    "# GANYU' BOW | AMOS BOW"
   ]
  },
  {
   "cell_type": "raw",
   "id": "e50e97fd",
   "metadata": {},
   "source": [
    "/give @p bow{display:{Name:'{\"text\":\"Amos Bow\",\"color\":\"dark_aqua\",\"bold\":true,\"italic\":true}',Lore:['{\"text\":\"Ganyu\\' Bow\",\"color\":\"dark_aqua\",\"italic\":true}']},HideFlags:4,Unbreakable:1b,Enchantments:[{id:\"minecraft:infinity\",lvl:1s},{id:\"minecraft:power\",lvl:10s},{id:\"minecraft:punch\",lvl:5s}],AttributeModifiers:[{AttributeName:\"generic.max_health\",Name:\"generic.max_health\",Amount:5,Operation:1,UUID:[I;1927055753,1126845349,-1612106973,-75788724],Slot:\"mainhand\"},{AttributeName:\"generic.attack_speed\",Name:\"generic.attack_speed\",Amount:0.2,Operation:1,UUID:[I;933986482,232605212,-1688503138,-1062243088],Slot:\"mainhand\"},{AttributeName:\"generic.attack_damage\",Name:\"generic.attack_damage\",Amount:0.4,Operation:1,UUID:[I;1382693763,-847754145,-1866263196,-887926743],Slot:\"mainhand\"}]} 1"
   ]
  }
 ],
 "metadata": {
  "kernelspec": {
   "display_name": "Python 3 (ipykernel)",
   "language": "python",
   "name": "python3"
  },
  "language_info": {
   "codemirror_mode": {
    "name": "ipython",
    "version": 3
   },
   "file_extension": ".py",
   "mimetype": "text/x-python",
   "name": "python",
   "nbconvert_exporter": "python",
   "pygments_lexer": "ipython3",
   "version": "3.11.5"
  }
 },
 "nbformat": 4,
 "nbformat_minor": 5
}
