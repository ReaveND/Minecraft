{
 "cells": [
  {
   "cell_type": "raw",
   "id": "5f411ff8",
   "metadata": {},
   "source": [
    "------------------------------\n",
    "DOLPHIN BOW FOR EI | DOLPHYSUS\n",
    "------------------------------\n",
    "/give @p bow{display:{Name:'{\"text\":\"Dolphysus\",\"color\":\"dark_purple\",\"bold\":true,\"italic\":true}',Lore:['{\"text\":\"Ei\\' Dolphin Bow\",\"color\":\"dark_purple\",\"italic\":true}']},HideFlags:4,Unbreakable:1b,Enchantments:[{id:\"minecraft:looting\",lvl:255s},{id:\"minecraft:infinity\",lvl:1s},{id:\"minecraft:power\",lvl:255s},{id:\"minecraft:punch\",lvl:255s}],AttributeModifiers:[{AttributeName:\"generic.max_health\",Name:\"generic.max_health\",Amount:5,Operation:1,UUID:[I;79413325,-691451349,-1535957682,-215703316],Slot:\"mainhand\"},{AttributeName:\"generic.attack_speed\",Name:\"generic.attack_speed\",Amount:0.5,Operation:1,UUID:[I;1146596928,-271171294,-1363437830,1409865195],Slot:\"mainhand\"},{AttributeName:\"generic.attack_damage\",Name:\"generic.attack_damage\",Amount:1.5,Operation:1,UUID:[I;939016007,1004683536,-1513367564,274651121],Slot:\"mainhand\"},{AttributeName:\"generic.knockback_resistance\",Name:\"generic.knockback_resistance\",Amount:5,Operation:1,UUID:[I;-1947548358,-1459599676,-1450073807,-59100942],Slot:\"mainhand\"}]} 1"
   ]
  },
  {
   "cell_type": "raw",
   "id": "65b73ad7",
   "metadata": {},
   "source": [
    "--------------------------------\n",
    "REAVEND' BLAZING BLADE | RAGNELL\n",
    "--------------------------------\n",
    "/give @p netherite_sword{display:{Name:'{\"text\":\"Ragnell\",\"color\":\"#FF0000\",\"bold\":true,\"italic\":true,\"underlined\":false,\"strikethrough\":false,\"obfuscated\":false}',Lore:['{\"text\":\"ReaveND\\' Blazing Blade\",\"color\":\"#FF0000\",\"bold\":false,\"italic\":true}']},HideFlags:4,Unbreakable:1b,Enchantments:[{id:\"minecraft:fire_aspect\",lvl:255s},{id:\"minecraft:knockback\",lvl:255s},{id:\"minecraft:looting\",lvl:255s},{id:\"minecraft:sharpness\",lvl:255s},{id:\"minecraft:sweeping\",lvl:255s}],AttributeModifiers:[{AttributeName:\"generic.attack_damage\",Name:\"generic.attack_damage\",Amount:2,Operation:1,UUID:[I;-721462365,-356889076,-2055585921,-1747434354],Slot:\"mainhand\"},{AttributeName:\"generic.attack_speed\",Name:\"generic.attack_speed\",Amount:-2,Operation:0,UUID:[I;365160675,-1873984536,-1130736512,58924485],Slot:\"mainhand\"},{AttributeName:\"generic.max_absorption\",Name:\"generic.max_absorption\",Amount:0.1,Operation:1,UUID:[I;-1257322017,672944039,-1480729929,-1618948384],Slot:\"mainhand\"}]} 1"
   ]
  },
  {
   "cell_type": "raw",
   "id": "ca127023",
   "metadata": {},
   "source": [
    "--------------------------------\n",
    "REAVEND' JOURNAL TOME | RAGNAROK\n",
    "--------------------------------\n",
    "/give @p writable_book{display:{Name:'{\"text\":\"Ragnarok\",\"color\":\"#FF0000\",\"bold\":true,\"italic\":true}',Lore:['{\"text\":\"ReaveND\\' Tome\",\"color\":\"#FF0000\",\"italic\":true}']},pages:[\"\"]} 1"
   ]
  },
  {
   "cell_type": "raw",
   "id": "6aeef12e",
   "metadata": {},
   "source": [
    "------------------------------------\n",
    "REAVEND' THUNDEROUS PICKAXE | ARMADS\n",
    "------------------------------------\n",
    "/give @p netherite_pickaxe{display:{Name:'{\"text\":\"Armads\",\"color\":\"#E5FF00\",\"bold\":true,\"italic\":true}',Lore:['{\"text\":\"ReaveND\\' Thunderous Pickaxe\",\"color\":\"#E5FF00\",\"italic\":true}']},HideFlags:4,Unbreakable:1b,Enchantments:[{id:\"minecraft:efficiency\",lvl:5s},{id:\"minecraft:fortune\",lvl:10s}]} 1"
   ]
  }
 ],
 "metadata": {
  "kernelspec": {
   "display_name": "Python 3 (ipykernel)",
   "language": "python",
   "name": "python3"
  },
  "language_info": {
   "codemirror_mode": {
    "name": "ipython",
    "version": 3
   },
   "file_extension": ".py",
   "mimetype": "text/x-python",
   "name": "python",
   "nbconvert_exporter": "python",
   "pygments_lexer": "ipython3",
   "version": "3.11.5"
  }
 },
 "nbformat": 4,
 "nbformat_minor": 5
}
